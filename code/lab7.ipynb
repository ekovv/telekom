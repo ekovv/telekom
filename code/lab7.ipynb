{
 "cells": [
  {
   "cell_type": "code",
   "execution_count": 3,
   "id": "af83bc39-0398-430e-b413-d5b00a7b0d43",
   "metadata": {},
   "outputs": [
    {
     "name": "stdout",
     "output_type": "stream",
     "text": [
      "Спектр (numpy.fft): [-0.05+0.j -1.05-1.j  1.15+0.j -1.05+1.j]\n",
      "Спектр (DFT): [-0.05+0.00000000e+00j -1.05-1.00000000e+00j  1.15+4.65365784e-16j\n",
      " -1.05+1.00000000e+00j]\n",
      "Разница: 1.2758911060622039e-15\n",
      "Спектр (FFT без рекурсии): [-0.05+0.00000000e+00j -1.05-1.00000000e+00j  1.15+7.34788079e-17j\n",
      " -1.05+1.00000000e+00j]\n",
      "Разница: 2.9552341287387254e-16\n",
      "Спектр (FFT с рекурсией): [-0.05+0.00000000e+00j -1.05-1.00000000e+00j  1.15+7.34788079e-17j\n",
      " -1.05+1.00000000e+00j]\n",
      "Разница: 5.437768281985998e-16\n"
     ]
    }
   ],
   "source": [
    "import os\n",
    "import numpy as np\n",
    "\n",
    "if not os.path.exists('thinkdsp.py'):\n",
    "    !wget https://github.com/AllenDowney/ThinkDSP/raw/master/code/thinkdsp.py\n",
    "\n",
    "TWO_PI = 2 * np.pi\n",
    "input_data = [-0.25, 0.2, 0.8, -0.8]\n",
    "fft_spectrum = np.fft.fft(input_data)\n",
    "print(\"Спектр (numpy.fft):\", fft_spectrum)\n",
    "\n",
    "def calculate_dft(data_points):\n",
    "    length = len(data_points)\n",
    "    time_steps = np.linspace(0, 1, length, endpoint=False)\n",
    "    freq_indices = np.arange(length)\n",
    "    phase_grid = np.outer(time_steps, freq_indices)\n",
    "    dft_matrix = np.exp(1j * TWO_PI * phase_grid)\n",
    "    return dft_matrix.conj().T @ data_points\n",
    "\n",
    "dft_output = calculate_dft(input_data)\n",
    "print(\"Спектр (DFT):\", dft_output)\n",
    "print(\"Разница:\", np.sum(np.abs(fft_spectrum - dft_output)))\n",
    "\n",
    "def fft_without_recursion(data_points):\n",
    "    length = len(data_points)\n",
    "    even_transform = np.fft.fft(data_points[::2])\n",
    "    odd_transform = np.fft.fft(data_points[1::2])\n",
    "    freqs = np.arange(length)\n",
    "    phase_factors = np.exp(-1j * TWO_PI * freqs / length)\n",
    "    return np.tile(even_transform, 2) + phase_factors * np.tile(odd_transform, 2)\n",
    "\n",
    "non_recursive_fft = fft_without_recursion(input_data)\n",
    "print(\"Спектр (FFT без рекурсии):\", non_recursive_fft)\n",
    "print(\"Разница:\", np.sum(np.abs(fft_spectrum - non_recursive_fft)))\n",
    "\n",
    "def fft_with_recursion(data_points):\n",
    "    length = len(data_points)\n",
    "    if length == 1:\n",
    "        return data_points\n",
    "    even_part = fft_with_recursion(data_points[::2])\n",
    "    odd_part = fft_with_recursion(data_points[1::2])\n",
    "    freqs = np.arange(length)\n",
    "    phase_factors = np.exp(-1j * TWO_PI * freqs / length)\n",
    "    return np.tile(even_part, 2) + phase_factors * np.tile(odd_part, 2)\n",
    "\n",
    "recursive_fft = fft_with_recursion(input_data)\n",
    "print(\"Спектр (FFT с рекурсией):\", recursive_fft)\n",
    "print(\"Разница:\", np.sum(np.abs(fft_spectrum - recursive_fft)))"
   ]
  }
 ],
 "metadata": {
  "kernelspec": {
   "display_name": "Python [conda env:base] *",
   "language": "python",
   "name": "conda-base-py"
  },
  "language_info": {
   "codemirror_mode": {
    "name": "ipython",
    "version": 3
   },
   "file_extension": ".py",
   "mimetype": "text/x-python",
   "name": "python",
   "nbconvert_exporter": "python",
   "pygments_lexer": "ipython3",
   "version": "3.12.7"
  }
 },
 "nbformat": 4,
 "nbformat_minor": 5
}
